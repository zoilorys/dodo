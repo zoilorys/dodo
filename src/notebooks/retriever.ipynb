{
 "cells": [
  {
   "cell_type": "code",
   "id": "9f61c93c-5daa-48a5-9007-a45dd93a18a5",
   "metadata": {
    "scrolled": true,
    "ExecuteTime": {
     "end_time": "2024-11-02T10:39:59.761214Z",
     "start_time": "2024-11-02T10:39:14.733483Z"
    }
   },
   "source": "pip install --quiet -U langchain langchain-chroma langchain-ollama",
   "outputs": [
    {
     "name": "stdout",
     "output_type": "stream",
     "text": [
      "\r\n",
      "\u001B[1m[\u001B[0m\u001B[34;49mnotice\u001B[0m\u001B[1;39;49m]\u001B[0m\u001B[39;49m A new release of pip is available: \u001B[0m\u001B[31;49m24.2\u001B[0m\u001B[39;49m -> \u001B[0m\u001B[32;49m24.3.1\u001B[0m\r\n",
      "\u001B[1m[\u001B[0m\u001B[34;49mnotice\u001B[0m\u001B[1;39;49m]\u001B[0m\u001B[39;49m To update, run: \u001B[0m\u001B[32;49mpip install --upgrade pip\u001B[0m\r\n",
      "Note: you may need to restart the kernel to use updated packages.\n"
     ]
    }
   ],
   "execution_count": 2
  },
  {
   "cell_type": "code",
   "id": "95ba04a9-f46b-4e48-b7e9-dbf8ec512ab6",
   "metadata": {},
   "source": [
    "import os\n",
    "from dotenv import load_dotenv\n",
    "\n",
    "load_dotenv()\n",
    "\n",
    "os.environ['LANGCHAIN_TRACING_V2'] = 'true'\n",
    "os.environ['LANGCHAIN_ENDPOINT'] = 'https://api.smith.langchain.com'\n",
    "os.environ['LANGCHAIN_PROJECT'] = 'dodo'\n",
    "\n",
    "llama_model = 'llama3.2:3b-instruct-fp16'"
   ],
   "outputs": [],
   "execution_count": null
  },
  {
   "metadata": {},
   "cell_type": "code",
   "source": [
    "\n",
    "os.getenv('LANGCHAIN_API_KEY')"
   ],
   "id": "4d19aae7ae2a2836",
   "outputs": [],
   "execution_count": null
  },
  {
   "cell_type": "code",
   "id": "a5392766-246b-4755-95c7-b44d76fd5591",
   "metadata": {},
   "source": [
    "from langchain_core.documents import Document\n",
    "\n",
    "documents = [\n",
    "  Document(\n",
    "      page_content=\"Dogs are great companions, known for their loyalty and friendliness.\",\n",
    "      metadata={\"source\": \"mammal-pets-doc\"},\n",
    "  ),\n",
    "  Document(\n",
    "      page_content=\"Cats are independent pets that often enjoy their own space.\",\n",
    "      metadata={\"source\": \"mammal-pets-doc\"},\n",
    "  ),\n",
    "  Document(\n",
    "      page_content=\"Goldfish are popular pets for beginners, requiring relatively simple care.\",\n",
    "      metadata={\"source\": \"fish-pets-doc\"},\n",
    "  ),\n",
    "  Document(\n",
    "      page_content=\"Parrots are intelligent birds capable of mimicking human speech.\",\n",
    "      metadata={\"source\": \"bird-pets-doc\"},\n",
    "  ),\n",
    "  Document(\n",
    "      page_content=\"Rabbits are social animals that need plenty of space to hop around.\",\n",
    "      metadata={\"source\": \"mammal-pets-doc\"},\n",
    "  ),\n",
    "]\n"
   ],
   "outputs": [],
   "execution_count": null
  },
  {
   "cell_type": "code",
   "id": "7a1e5069",
   "metadata": {},
   "source": [
    "from langchain_chroma import Chroma\n",
    "from langchain_ollama import OllamaEmbeddings\n",
    "\n",
    "vectorstore = Chroma.from_documents(\n",
    "  documents,\n",
    "  embedding=OllamaEmbeddings(model=llama_model)\n",
    ")"
   ],
   "outputs": [],
   "execution_count": null
  },
  {
   "cell_type": "code",
   "id": "43aff2d1",
   "metadata": {},
   "source": [
    "vectorstore.similarity_search(\"cat\")"
   ],
   "outputs": [],
   "execution_count": null
  },
  {
   "cell_type": "code",
   "id": "e1d336c7",
   "metadata": {},
   "source": [
    "await vectorstore.asimilarity_search(\"cat\")"
   ],
   "outputs": [],
   "execution_count": null
  },
  {
   "cell_type": "code",
   "id": "a610f628",
   "metadata": {},
   "source": [
    "vectorstore.similarity_search_with_score(\"cat\")"
   ],
   "outputs": [],
   "execution_count": null
  },
  {
   "cell_type": "code",
   "id": "f0e6798b",
   "metadata": {},
   "source": [
    "embedding = OllamaEmbeddings(model=llama_model).embed_query(\"cat\")\n",
    "\n",
    "vectorstore.similarity_search_by_vector(embedding)"
   ],
   "outputs": [],
   "execution_count": null
  },
  {
   "cell_type": "code",
   "id": "8272467b",
   "metadata": {},
   "source": [
    "from langchain_core.documents import Document\n",
    "from langchain_core.runnables import RunnableLambda\n",
    "\n",
    "retriever = RunnableLambda(vectorstore.similarity_search).bind(k=1) # top result\n",
    "\n",
    "retriever.batch([\"cat\", \"shark\"])"
   ],
   "outputs": [],
   "execution_count": null
  },
  {
   "cell_type": "code",
   "id": "a52cce3a",
   "metadata": {},
   "source": [
    "retriever = vectorstore.as_retriever(\n",
    "  search_type=\"similarity\",\n",
    "  search_kwargs={\"k\":1}\n",
    ")\n",
    "\n",
    "retriever.batch([\"cat\", \"shark\"])"
   ],
   "outputs": [],
   "execution_count": null
  },
  {
   "cell_type": "code",
   "id": "f97fd256",
   "metadata": {},
   "source": [
    "from langchain_ollama import ChatOllama\n",
    "\n",
    "llm = ChatOllama(model=llama_model)"
   ],
   "outputs": [],
   "execution_count": null
  },
  {
   "cell_type": "code",
   "id": "a0c79836",
   "metadata": {},
   "source": [
    "from langchain_core.prompts import ChatPromptTemplate\n",
    "from langchain_core.runnables import RunnablePassthrough\n",
    "\n",
    "message = \"\"\"\n",
    "Answer this question using provided context only.\n",
    "\n",
    "{question}\n",
    "\n",
    "Context:\n",
    "{context}\n",
    "\"\"\"\n",
    "\n",
    "prompt = ChatPromptTemplate.from_messages([(\"human\", message)])\n",
    "\n",
    "rag_chain = {\"context\": retriever, \"question\": RunnablePassthrough()} | prompt | llm"
   ],
   "outputs": [],
   "execution_count": null
  },
  {
   "cell_type": "code",
   "id": "8323629c",
   "metadata": {},
   "source": [
    "response = rag_chain.invoke(\"tell me about cats\")\n",
    "\n",
    "print(response.content)"
   ],
   "outputs": [],
   "execution_count": null
  },
  {
   "cell_type": "code",
   "id": "bf3dbae8",
   "metadata": {},
   "source": [],
   "outputs": [],
   "execution_count": null
  }
 ],
 "metadata": {
  "kernelspec": {
   "display_name": "Python 3 (ipykernel)",
   "language": "python",
   "name": "python3"
  },
  "language_info": {
   "codemirror_mode": {
    "name": "ipython",
    "version": 3
   },
   "file_extension": ".py",
   "mimetype": "text/x-python",
   "name": "python",
   "nbconvert_exporter": "python",
   "pygments_lexer": "ipython3",
   "version": "3.12.5"
  }
 },
 "nbformat": 4,
 "nbformat_minor": 5
}
